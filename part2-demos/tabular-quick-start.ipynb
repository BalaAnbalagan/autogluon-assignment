{
 "cells": [
  {
   "cell_type": "markdown",
   "metadata": {},
   "source": [
    "# Tabular Quick Start - Titanic Classification\n",
    "\n",
    "## 🎯 Objective\n",
    "A minimal baseline demonstrating the simplest AutoGluon workflow: **load → fit → leaderboard**\n",
    "\n",
    "**Task**: Binary Classification  \n",
    "**Dataset**: Titanic (Kaggle)  \n",
    "**Target**: `Survived`  \n",
    "**Metric**: ROC-AUC  \n",
    "\n",
    "## 📋 What This Notebook Does\n",
    "1. Load Titanic dataset\n",
    "2. Train AutoGluon with ONE line of code\n",
    "3. View leaderboard and feature importance\n",
    "4. Make predictions"
   ]
  },
  {
   "cell_type": "markdown",
   "metadata": {},
   "source": [
    "## 📦 Install Dependencies"
   ]
  },
  {
   "cell_type": "code",
   "execution_count": null,
   "metadata": {},
   "outputs": [],
   "source": "!pip install -q torch torchvision torchaudio\n!pip install -q autogluon"
  },
  {
   "cell_type": "markdown",
   "metadata": {},
   "source": [
    "## 📚 Import Libraries"
   ]
  },
  {
   "cell_type": "code",
   "execution_count": null,
   "metadata": {},
   "outputs": [],
   "source": [
    "from autogluon.tabular import TabularDataset, TabularPredictor"
   ]
  },
  {
   "cell_type": "markdown",
   "metadata": {},
   "source": [
    "## 📥 Load Dataset\n",
    "\n",
    "AutoGluon provides sample datasets including Titanic:"
   ]
  },
  {
   "cell_type": "code",
   "execution_count": null,
   "metadata": {},
   "outputs": [],
   "source": [
    "# Load Titanic dataset (built-in)\n",
    "train = TabularDataset('https://autogluon.s3.amazonaws.com/datasets/titanic/train.csv')\n",
    "test = TabularDataset('https://autogluon.s3.amazonaws.com/datasets/titanic/test.csv')\n",
    "\n",
    "print(f\"✅ Data loaded!\")\n",
    "print(f\"   Train: {train.shape}\")\n",
    "print(f\"   Test:  {test.shape}\")\n",
    "print(f\"\\n📊 First few rows:\")\n",
    "display(train.head())"
   ]
  },
  {
   "cell_type": "markdown",
   "metadata": {},
   "source": [
    "## 🎯 Set Target Label"
   ]
  },
  {
   "cell_type": "code",
   "execution_count": null,
   "metadata": {},
   "outputs": [],
   "source": [
    "LABEL = \"Survived\"\n",
    "print(f\"🎯 Target: {LABEL}\")"
   ]
  },
  {
   "cell_type": "markdown",
   "metadata": {},
   "source": [
    "## 🚀 Train Model (ONE Line!)\n",
    "\n",
    "This is the simplest possible AutoGluon workflow:"
   ]
  },
  {
   "cell_type": "code",
   "execution_count": null,
   "metadata": {},
   "outputs": [],
   "source": [
    "# Train with default settings\n",
    "predictor = TabularPredictor(label=LABEL).fit(\n",
    "    train,\n",
    "    presets=\"medium_quality\",\n",
    "    time_limit=300  # 5 minutes for quick demo\n",
    ")"
   ]
  },
  {
   "cell_type": "markdown",
   "metadata": {},
   "source": [
    "## 📊 Leaderboard"
   ]
  },
  {
   "cell_type": "code",
   "execution_count": null,
   "metadata": {},
   "outputs": [],
   "source": [
    "leaderboard = predictor.leaderboard(train, silent=True)\n",
    "print(\"🏆 Model Leaderboard:\")\n",
    "display(leaderboard)\n",
    "\n",
    "leaderboard.to_csv('leaderboard.csv', index=False)\n",
    "print(\"\\n💾 Saved: leaderboard.csv\")"
   ]
  },
  {
   "cell_type": "markdown",
   "metadata": {},
   "source": [
    "## 🔍 Feature Importance"
   ]
  },
  {
   "cell_type": "code",
   "execution_count": null,
   "metadata": {},
   "outputs": [],
   "source": [
    "feature_importance = predictor.feature_importance(train)\n",
    "print(\"🔍 Feature Importance:\")\n",
    "display(feature_importance)\n",
    "\n",
    "feature_importance.to_csv('feature_importance.csv')\n",
    "print(\"\\n💾 Saved: feature_importance.csv\")"
   ]
  },
  {
   "cell_type": "markdown",
   "metadata": {},
   "source": [
    "## 🔮 Predictions"
   ]
  },
  {
   "cell_type": "code",
   "execution_count": null,
   "metadata": {},
   "outputs": [],
   "source": [
    "predictions = predictor.predict(test)\n",
    "print(\"🔮 Sample predictions:\")\n",
    "print(predictions.head(10))"
   ]
  },
  {
   "cell_type": "markdown",
   "metadata": {},
   "source": [
    "## 💾 Save Model"
   ]
  },
  {
   "cell_type": "code",
   "execution_count": null,
   "metadata": {},
   "outputs": [],
   "source": [
    "import shutil\n",
    "shutil.make_archive('autogluon_model', 'zip', predictor.path)\n",
    "print(\"✅ Model saved: autogluon_model.zip\")"
   ]
  },
  {
   "cell_type": "markdown",
   "metadata": {},
   "source": [
    "## 🎓 Summary\n",
    "\n",
    "This notebook showed the **minimal AutoGluon workflow**:\n",
    "\n",
    "```python\n",
    "predictor = TabularPredictor(label=LABEL).fit(train)\n",
    "```\n",
    "\n",
    "That's it! AutoGluon handles:\n",
    "- ✅ Data preprocessing\n",
    "- ✅ Feature engineering\n",
    "- ✅ Model selection\n",
    "- ✅ Hyperparameter tuning\n",
    "- ✅ Ensemble creation\n",
    "\n",
    "**Key Findings (Typical Results):**\n",
    "- Most important features: Sex, Fare, Age, Pclass\n",
    "- Ensemble models perform best\n",
    "- ~80-85% accuracy achievable"
   ]
  }
 ],
 "metadata": {
  "kernelspec": {
   "display_name": "Python 3",
   "language": "python",
   "name": "python3"
  },
  "language_info": {
   "name": "python",
   "version": "3.10.0"
  }
 },
 "nbformat": 4,
 "nbformat_minor": 4
}
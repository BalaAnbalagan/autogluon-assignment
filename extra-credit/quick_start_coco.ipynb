{
 "cells": [
  {
   "cell_type": "markdown",
   "metadata": {},
   "source": [
    "# AutoGluon: Object Detection on COCO Dataset\n",
    "\n",
    "## Objective\n",
    "This notebook demonstrates **object detection** using AutoGluon on COCO-format datasets. Object detection locates and classifies multiple objects within images.\n",
    "\n",
    "## Use Case\n",
    "Object detection is useful for:\n",
    "- Autonomous vehicles (detecting pedestrians, vehicles, signs)\n",
    "- Security and surveillance (person detection, intrusion detection)\n",
    "- Retail analytics (product counting, shelf monitoring)\n",
    "- Medical imaging (tumor detection, cell counting)\n",
    "- Manufacturing (defect detection, part identification)\n",
    "\n",
    "## COCO Dataset Format\n",
    "The COCO format includes:\n",
    "- Images with multiple objects\n",
    "- Bounding box coordinates (x, y, width, height)\n",
    "- Object categories/labels\n",
    "- Annotations in JSON format"
   ]
  },
  {
   "cell_type": "code",
   "execution_count": null,
   "metadata": {},
   "outputs": [],
   "source": [
    "# Install AutoGluon\n",
    "!pip install -q autogluon"
   ]
  },
  {
   "cell_type": "code",
   "execution_count": null,
   "metadata": {},
   "outputs": [],
   "source": [
    "# Import libraries\n",
    "import pandas as pd\n",
    "import numpy as np\n",
    "from autogluon.tabular import TabularDataset, TabularPredictor\n",
    "import os\n",
    "import shutil\n",
    "import json"
   ]
  },
  {
   "cell_type": "code",
   "execution_count": null,
   "metadata": {},
   "outputs": [],
   "source": [
    "# Load dataset\n",
    "# TODO: Upload your COCO-format dataset or use URL\n",
    "# COCO dataset should have:\n",
    "# - Images directory\n",
    "# - Annotations JSON file with format: {\"images\": [...], \"annotations\": [...], \"categories\": [...]}\n",
    "\n",
    "# Example structure:\n",
    "# /dataset/\n",
    "#   /images/\n",
    "#     image1.jpg\n",
    "#     image2.jpg\n",
    "#   annotations.json\n",
    "\n",
    "# For AutoGluon, convert COCO to CSV format:\n",
    "# CSV columns: 'image', 'rois' (bounding boxes), 'label'\n",
    "\n",
    "# Example: train_data = TabularDataset('path/to/coco_train.csv')\n",
    "\n",
    "train_data = None  # Replace with your data\n",
    "test_data = None   # Replace with your data\n",
    "\n",
    "print(\"Dataset loaded successfully!\")\n",
    "if train_data is not None:\n",
    "    print(f\"Training data shape: {train_data.shape}\")\n",
    "    print(train_data.head())"
   ]
  },
  {
   "cell_type": "code",
   "execution_count": null,
   "metadata": {},
   "outputs": [],
   "source": [
    "# Set label column\n",
    "# For object detection, this is the object category\n",
    "LABEL = 'label'  # TODO: Replace with your label column name"
   ]
  },
  {
   "cell_type": "code",
   "execution_count": null,
   "metadata": {},
   "outputs": [],
   "source": [
    "# Auto-detect problem type based on label\n",
    "# Object detection is a specialized classification task\n",
    "if train_data is not None and LABEL in train_data.columns:\n",
    "    # Check if the label is numeric (regression) or categorical (classification)\n",
    "    if pd.api.types.is_numeric_dtype(train_data[LABEL]):\n",
    "        # Check if it's continuous or discrete\n",
    "        unique_ratio = train_data[LABEL].nunique() / len(train_data)\n",
    "        if unique_ratio > 0.05:  # More than 5% unique values suggests regression\n",
    "            problem_type = 'regression'\n",
    "            eval_metric = 'rmse'\n",
    "        else:\n",
    "            problem_type = 'classification'\n",
    "            eval_metric = 'roc_auc'\n",
    "    else:\n",
    "        problem_type = 'classification'\n",
    "        eval_metric = 'roc_auc'\n",
    "else:\n",
    "    # Default for object detection\n",
    "    problem_type = 'classification'\n",
    "    eval_metric = 'roc_auc'  # Can also use mAP for object detection\n",
    "\n",
    "print(f\"Problem Type: {problem_type} (Object Detection)\")\n",
    "print(f\"Evaluation Metric: {eval_metric}\")\n",
    "print(\"\\nNote: Object detection identifies and localizes multiple objects per image.\")"
   ]
  },
  {
   "cell_type": "code",
   "execution_count": null,
   "metadata": {},
   "outputs": [],
   "source": [
    "# Train the model\n",
    "# AutoGluon will use object detection models like YOLO, Faster R-CNN, etc.\n",
    "predictor = TabularPredictor(\n",
    "    label=LABEL,\n",
    "    problem_type=problem_type,\n",
    "    eval_metric=eval_metric,\n",
    "    path='./autogluon-object-detection-model'\n",
    ").fit(\n",
    "    train_data=train_data,\n",
    "    presets='medium_quality',\n",
    "    time_limit=900\n",
    ")\n",
    "\n",
    "print(\"Model training completed!\")"
   ]
  },
  {
   "cell_type": "code",
   "execution_count": null,
   "metadata": {},
   "outputs": [],
   "source": [
    "# Display and save leaderboard\n",
    "leaderboard = predictor.leaderboard(test_data, silent=True)\n",
    "print(\"\\nModel Leaderboard:\")\n",
    "print(leaderboard)\n",
    "\n",
    "# Save leaderboard to CSV\n",
    "leaderboard.to_csv('leaderboard.csv', index=False)\n",
    "print(\"\\nLeaderboard saved to leaderboard.csv\")"
   ]
  },
  {
   "cell_type": "code",
   "execution_count": null,
   "metadata": {},
   "outputs": [],
   "source": [
    "# Display and save feature importance\n",
    "try:\n",
    "    feature_importance = predictor.feature_importance(test_data)\n",
    "    print(\"\\nFeature Importance:\")\n",
    "    print(feature_importance)\n",
    "    \n",
    "    # Save feature importance to CSV\n",
    "    feature_importance.to_csv('feature_importance.csv')\n",
    "    print(\"\\nFeature importance saved to feature_importance.csv\")\n",
    "except Exception as e:\n",
    "    print(f\"Could not compute feature importance: {e}\")"
   ]
  },
  {
   "cell_type": "code",
   "execution_count": null,
   "metadata": {},
   "outputs": [],
   "source": [
    "# Make predictions\n",
    "if test_data is not None:\n",
    "    predictions = predictor.predict(test_data)\n",
    "    print(\"\\nPredictions (Detected Objects):\")\n",
    "    print(predictions.head())\n",
    "    \n",
    "    # For object detection, predictions include:\n",
    "    # - Bounding boxes (coordinates)\n",
    "    # - Object classes\n",
    "    # - Confidence scores\n",
    "    \n",
    "    if problem_type == 'classification':\n",
    "        pred_probs = predictor.predict_proba(test_data)\n",
    "        print(\"\\nPrediction Probabilities:\")\n",
    "        print(pred_probs.head())\n",
    "        \n",
    "    # Example output format\n",
    "    print(\"\\nObject Detection Output Format:\")\n",
    "    print(\"Each prediction contains: [class, confidence, x1, y1, x2, y2]\")\n",
    "    print(\"Where (x1,y1) is top-left and (x2,y2) is bottom-right of bounding box\")"
   ]
  },
  {
   "cell_type": "code",
   "execution_count": null,
   "metadata": {},
   "outputs": [],
   "source": [
    "# Save model artifacts as zip file\n",
    "model_path = './autogluon-object-detection-model'\n",
    "zip_filename = 'autogluon_object_detection_model'\n",
    "\n",
    "if os.path.exists(model_path):\n",
    "    shutil.make_archive(zip_filename, 'zip', model_path)\n",
    "    print(f\"\\nModel artifacts saved to {zip_filename}.zip\")\n",
    "else:\n",
    "    print(\"Model path not found. Train the model first.\")"
   ]
  }
 ],
 "metadata": {
  "kernelspec": {
   "display_name": "Python 3",
   "language": "python",
   "name": "python3"
  },
  "language_info": {
   "name": "python",
   "version": "3.8.0"
  }
 },
 "nbformat": 4,
 "nbformat_minor": 4
}

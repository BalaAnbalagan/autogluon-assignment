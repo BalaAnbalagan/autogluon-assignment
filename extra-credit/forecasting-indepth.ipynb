{
 "cells": [
  {
   "cell_type": "markdown",
   "metadata": {},
   "source": [
    "# AutoGluon: Time Series Forecasting In-Depth\n",
    "\n",
    "## Objective\n",
    "This notebook demonstrates **time series forecasting** using AutoGluon with comprehensive features and advanced options.\n",
    "\n",
    "## Use Case\n",
    "Time series forecasting is useful for:\n",
    "- Sales forecasting and demand planning\n",
    "- Stock price prediction\n",
    "- Weather forecasting\n",
    "- Energy consumption prediction\n",
    "- Website traffic forecasting\n",
    "- Inventory management\n",
    "- Financial planning and budgeting\n",
    "\n",
    "## Key Concepts\n",
    "- Predicts future values based on historical patterns\n",
    "- Handles trends, seasonality, and cycles\n",
    "- Supports univariate and multivariate forecasting\n",
    "- Multiple horizons (short-term, long-term)\n",
    "- Handles irregular time series"
   ]
  },
  {
   "cell_type": "code",
   "execution_count": null,
   "metadata": {},
   "outputs": [],
   "source": "!pip install -q torch torchvision torchaudio\n!pip install -q autogluon"
  },
  {
   "cell_type": "code",
   "execution_count": null,
   "metadata": {},
   "outputs": [],
   "source": [
    "# Import libraries\n",
    "import pandas as pd\n",
    "import numpy as np\n",
    "from autogluon.tabular import TabularDataset, TabularPredictor\n",
    "import os\n",
    "import shutil"
   ]
  },
  {
   "cell_type": "code",
   "execution_count": null,
   "metadata": {},
   "outputs": [],
   "source": [
    "# Load dataset\n",
    "# TODO: Upload your time series dataset or use URL\n",
    "# Time series data should have:\n",
    "# - Timestamp column (date/datetime)\n",
    "# - Target value column (what you want to forecast)\n",
    "# - Optional: Additional features (exogenous variables)\n",
    "# - Optional: Item/entity ID for multiple time series\n",
    "\n",
    "# Example format:\n",
    "# timestamp | target | feature1 | feature2 | item_id\n",
    "# 2024-01-01 | 100   | 5        | 20       | A\n",
    "# 2024-01-02 | 105   | 6        | 21       | A\n",
    "\n",
    "# Example: train_data = TabularDataset('path/to/timeseries_data.csv')\n",
    "\n",
    "train_data = None  # Replace with your data\n",
    "test_data = None   # Replace with your data\n",
    "\n",
    "print(\"Dataset loaded successfully!\")\n",
    "if train_data is not None:\n",
    "    print(f\"Training data shape: {train_data.shape}\")\n",
    "    print(\"\\nColumn types:\")\n",
    "    print(train_data.dtypes)\n",
    "    print(\"\\nSample data:\")\n",
    "    print(train_data.head())"
   ]
  },
  {
   "cell_type": "code",
   "execution_count": null,
   "metadata": {},
   "outputs": [],
   "source": [
    "# Set label column (target variable to forecast)\n",
    "LABEL = 'target'  # TODO: Replace with your target column name (e.g., 'sales', 'demand', 'price')"
   ]
  },
  {
   "cell_type": "code",
   "execution_count": null,
   "metadata": {},
   "outputs": [],
   "source": [
    "# Auto-detect problem type based on label\n",
    "# Time series forecasting is typically a regression problem\n",
    "if train_data is not None and LABEL in train_data.columns:\n",
    "    # Check if the label is numeric (regression) or categorical (classification)\n",
    "    if pd.api.types.is_numeric_dtype(train_data[LABEL]):\n",
    "        # Check if it's continuous or discrete\n",
    "        unique_ratio = train_data[LABEL].nunique() / len(train_data)\n",
    "        if unique_ratio > 0.05:  # More than 5% unique values suggests regression\n",
    "            problem_type = 'regression'\n",
    "            eval_metric = 'rmse'\n",
    "        else:\n",
    "            problem_type = 'classification'\n",
    "            eval_metric = 'roc_auc'\n",
    "    else:\n",
    "        problem_type = 'classification'\n",
    "        eval_metric = 'roc_auc'\n",
    "else:\n",
    "    # Default to regression for time series\n",
    "    problem_type = 'regression'\n",
    "    eval_metric = 'rmse'\n",
    "\n",
    "print(f\"Problem Type: {problem_type}\")\n",
    "print(f\"Evaluation Metric: {eval_metric}\")\n",
    "print(\"\\nNote: Time series forecasting predicts future values based on historical patterns.\")"
   ]
  },
  {
   "cell_type": "code",
   "execution_count": null,
   "metadata": {},
   "outputs": [],
   "source": [
    "# Train the model\n",
    "# For time series, AutoGluon uses specialized forecasting models\n",
    "# Important: Make sure timestamp column is properly formatted\n",
    "\n",
    "predictor = TabularPredictor(\n",
    "    label=LABEL,\n",
    "    problem_type=problem_type,\n",
    "    eval_metric=eval_metric,\n",
    "    path='./autogluon-forecasting-model'\n",
    ").fit(\n",
    "    train_data=train_data,\n",
    "    presets='medium_quality',\n",
    "    time_limit=900,\n",
    "    # For time series, you may want to specify:\n",
    "    # - Time features: AutoGluon will extract date/time features\n",
    "    # - Lag features: Past values used as features\n",
    ")\n",
    "\n",
    "print(\"Model training completed!\")\n",
    "print(\"The model learned temporal patterns, trends, and seasonality.\")"
   ]
  },
  {
   "cell_type": "code",
   "execution_count": null,
   "metadata": {},
   "outputs": [],
   "source": [
    "# Display and save leaderboard\n",
    "leaderboard = predictor.leaderboard(test_data, silent=True)\n",
    "print(\"\\nModel Leaderboard:\")\n",
    "print(leaderboard)\n",
    "\n",
    "# Save leaderboard to CSV\n",
    "leaderboard.to_csv('leaderboard.csv', index=False)\n",
    "print(\"\\nLeaderboard saved to leaderboard.csv\")"
   ]
  },
  {
   "cell_type": "code",
   "execution_count": null,
   "metadata": {},
   "outputs": [],
   "source": [
    "# Display and save feature importance\n",
    "try:\n",
    "    feature_importance = predictor.feature_importance(test_data)\n",
    "    print(\"\\nFeature Importance:\")\n",
    "    print(feature_importance)\n",
    "    print(\"\\nNote: Shows importance of time features, lags, and other variables.\")\n",
    "    \n",
    "    # Save feature importance to CSV\n",
    "    feature_importance.to_csv('feature_importance.csv')\n",
    "    print(\"\\nFeature importance saved to feature_importance.csv\")\n",
    "except Exception as e:\n",
    "    print(f\"Could not compute feature importance: {e}\")"
   ]
  },
  {
   "cell_type": "code",
   "execution_count": null,
   "metadata": {},
   "outputs": [],
   "source": [
    "# Make predictions\n",
    "if test_data is not None:\n",
    "    predictions = predictor.predict(test_data)\n",
    "    print(\"\\nPredictions (Forecasted Values):\")\n",
    "    print(predictions.head())\n",
    "    \n",
    "    # For time series, visualizing predictions vs actuals is helpful\n",
    "    if LABEL in test_data.columns:\n",
    "        results = pd.DataFrame({\n",
    "            'Actual': test_data[LABEL],\n",
    "            'Predicted': predictions\n",
    "        })\n",
    "        print(\"\\nActual vs Predicted:\")\n",
    "        print(results.head(10))\n",
    "        \n",
    "    # Example: Forecast future periods\n",
    "    print(\"\\nTo forecast future periods:\")\n",
    "    print(\"1. Create future date range\")\n",
    "    print(\"2. Add any known exogenous features\")\n",
    "    print(\"3. Use predictor.predict() to get forecasts\")"
   ]
  },
  {
   "cell_type": "code",
   "execution_count": null,
   "metadata": {},
   "outputs": [],
   "source": [
    "# Save model artifacts as zip file\n",
    "model_path = './autogluon-forecasting-model'\n",
    "zip_filename = 'autogluon_forecasting_model'\n",
    "\n",
    "if os.path.exists(model_path):\n",
    "    shutil.make_archive(zip_filename, 'zip', model_path)\n",
    "    print(f\"\\nModel artifacts saved to {zip_filename}.zip\")\n",
    "else:\n",
    "    print(\"Model path not found. Train the model first.\")"
   ]
  }
 ],
 "metadata": {
  "kernelspec": {
   "display_name": "Python 3",
   "language": "python",
   "name": "python3"
  },
  "language_info": {
   "name": "python",
   "version": "3.8.0"
  }
 },
 "nbformat": 4,
 "nbformat_minor": 4
}
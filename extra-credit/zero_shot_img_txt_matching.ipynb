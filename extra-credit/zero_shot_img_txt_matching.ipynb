{
 "cells": [
  {
   "cell_type": "markdown",
   "metadata": {},
   "source": [
    "# AutoGluon: Zero-Shot Image-Text Matching\n",
    "\n",
    "## Objective\n",
    "This notebook demonstrates **zero-shot image-text matching** using AutoGluon with pre-trained models like CLIP. Zero-shot matching works without task-specific training data.\n",
    "\n",
    "## Use Case\n",
    "Zero-shot image-text matching is useful for:\n",
    "- Open-domain image search with natural language\n",
    "- Product discovery without predefined categories\n",
    "- Content-based image retrieval\n",
    "- Visual question answering without training\n",
    "- Cross-modal similarity search\n",
    "- Rapid prototyping for new matching tasks\n",
    "\n",
    "## Key Features\n",
    "- No training required for new matching tasks\n",
    "- Uses pre-trained vision-language models (e.g., CLIP)\n",
    "- Works with arbitrary text queries\n",
    "- Generalizes to unseen concepts\n",
    "- Real-time inference on new pairs"
   ]
  },
  {
   "cell_type": "code",
   "execution_count": null,
   "metadata": {},
   "outputs": [],
   "source": [
    "# Install AutoGluon\n",
    "!pip install -q autogluon"
   ]
  },
  {
   "cell_type": "code",
   "execution_count": null,
   "metadata": {},
   "outputs": [],
   "source": [
    "# Import libraries\n",
    "import pandas as pd\n",
    "import numpy as np\n",
    "from autogluon.tabular import TabularDataset, TabularPredictor\n",
    "import os\n",
    "import shutil"
   ]
  },
  {
   "cell_type": "code",
   "execution_count": null,
   "metadata": {},
   "outputs": [],
   "source": [
    "# Load dataset\n",
    "# TODO: Upload your image-text pairs dataset or use URL\n",
    "# For zero-shot, training data is optional (can use pre-trained models directly)\n",
    "# Dataset format:\n",
    "# - 'image' column (paths to images)\n",
    "# - 'text' column (text descriptions/queries)\n",
    "# - Optional: 'label' column for evaluation\n",
    "\n",
    "# Example: train_data = TabularDataset('path/to/image_text_pairs.csv')\n",
    "\n",
    "train_data = None  # Replace with your data (optional for zero-shot)\n",
    "test_data = None   # Replace with your test data\n",
    "\n",
    "print(\"Dataset loaded successfully!\")\n",
    "if train_data is not None:\n",
    "    print(f\"Training data shape: {train_data.shape}\")\n",
    "    print(train_data.head())\n",
    "else:\n",
    "    print(\"No training data provided. Will use pre-trained models for zero-shot matching.\")"
   ]
  },
  {
   "cell_type": "code",
   "execution_count": null,
   "metadata": {},
   "outputs": [],
   "source": [
    "# Set label column\n",
    "LABEL = 'label'  # TODO: Replace with your label column name (if available)"
   ]
  },
  {
   "cell_type": "code",
   "execution_count": null,
   "metadata": {},
   "outputs": [],
   "source": [
    "# Auto-detect problem type based on label\n",
    "if train_data is not None and LABEL in train_data.columns:\n",
    "    # Check if the label is numeric (regression) or categorical (classification)\n",
    "    if pd.api.types.is_numeric_dtype(train_data[LABEL]):\n",
    "        # Check if it's continuous or discrete\n",
    "        unique_ratio = train_data[LABEL].nunique() / len(train_data)\n",
    "        if unique_ratio > 0.05:  # More than 5% unique values suggests regression\n",
    "            problem_type = 'regression'\n",
    "            eval_metric = 'rmse'\n",
    "        else:\n",
    "            problem_type = 'classification'\n",
    "            eval_metric = 'roc_auc'\n",
    "    else:\n",
    "        problem_type = 'classification'\n",
    "        eval_metric = 'roc_auc'\n",
    "else:\n",
    "    # Default to classification for zero-shot matching\n",
    "    problem_type = 'classification'\n",
    "    eval_metric = 'roc_auc'\n",
    "\n",
    "print(f\"Problem Type: {problem_type}\")\n",
    "print(f\"Evaluation Metric: {eval_metric}\")\n",
    "print(\"\\nNote: Zero-shot matching uses pre-trained models without task-specific training.\")"
   ]
  },
  {
   "cell_type": "code",
   "execution_count": null,
   "metadata": {},
   "outputs": [],
   "source": [
    "# Train/Load the model\n",
    "if train_data is not None:\n",
    "    # If training data is available, fine-tune for better performance\n",
    "    predictor = TabularPredictor(\n",
    "        label=LABEL,\n",
    "        problem_type=problem_type,\n",
    "        eval_metric=eval_metric,\n",
    "        path='./autogluon-zero-shot-matching-model'\n",
    "    ).fit(\n",
    "        train_data=train_data,\n",
    "        presets='medium_quality',\n",
    "        time_limit=900\n",
    "    )\n",
    "    print(\"Model training completed!\")\n",
    "else:\n",
    "    # For pure zero-shot, use pre-trained models directly\n",
    "    print(\"Using pre-trained CLIP for zero-shot image-text matching.\")\n",
    "    print(\"You can match any image with any text query without training!\")\n",
    "    # predictor = None  # Would load pre-trained CLIP here"
   ]
  },
  {
   "cell_type": "code",
   "execution_count": null,
   "metadata": {},
   "outputs": [],
   "source": [
    "# Display and save leaderboard\n",
    "if train_data is not None and test_data is not None:\n",
    "    leaderboard = predictor.leaderboard(test_data, silent=True)\n",
    "    print(\"\\nModel Leaderboard:\")\n",
    "    print(leaderboard)\n",
    "    \n",
    "    # Save leaderboard to CSV\n",
    "    leaderboard.to_csv('leaderboard.csv', index=False)\n",
    "    print(\"\\nLeaderboard saved to leaderboard.csv\")\n",
    "else:\n",
    "    print(\"Leaderboard requires both training and test data.\")"
   ]
  },
  {
   "cell_type": "code",
   "execution_count": null,
   "metadata": {},
   "outputs": [],
   "source": [
    "# Display and save feature importance\n",
    "try:\n",
    "    if train_data is not None:\n",
    "        feature_importance = predictor.feature_importance(test_data)\n",
    "        print(\"\\nFeature Importance:\")\n",
    "        print(feature_importance)\n",
    "        \n",
    "        # Save feature importance to CSV\n",
    "        feature_importance.to_csv('feature_importance.csv')\n",
    "        print(\"\\nFeature importance saved to feature_importance.csv\")\n",
    "except Exception as e:\n",
    "    print(f\"Could not compute feature importance: {e}\")"
   ]
  },
  {
   "cell_type": "code",
   "execution_count": null,
   "metadata": {},
   "outputs": [],
   "source": [
    "# Make predictions\n",
    "if test_data is not None and train_data is not None:\n",
    "    predictions = predictor.predict(test_data)\n",
    "    print(\"\\nPredictions (Match Scores):\")\n",
    "    print(predictions.head())\n",
    "    \n",
    "    # For classification, also show prediction probabilities\n",
    "    if problem_type == 'classification':\n",
    "        pred_probs = predictor.predict_proba(test_data)\n",
    "        print(\"\\nPrediction Probabilities:\")\n",
    "        print(pred_probs.head())\n",
    "\n",
    "# Example: Zero-shot matching with arbitrary pairs\n",
    "print(\"\\nZero-Shot Image-Text Matching Example:\")\n",
    "print(\"You can match any image with any text without training!\")\n",
    "print(\"\"\"\\nExample usage:\n",
    "pairs = pd.DataFrame({\n",
    "    'image': ['photo1.jpg', 'photo2.jpg'],\n",
    "    'text': ['A cat sitting on a couch', 'A dog playing in the park']\n",
    "})\n",
    "# Get similarity scores for each pair\n",
    "similarities = predictor.predict(pairs)\n",
    "\"\"\")\n",
    "print(\"\\nApplications:\")\n",
    "print(\"- Image search: Given a text query, find matching images\")\n",
    "print(\"- Caption verification: Check if image matches its caption\")\n",
    "print(\"- Content discovery: Find images relevant to any description\")"
   ]
  },
  {
   "cell_type": "code",
   "execution_count": null,
   "metadata": {},
   "outputs": [],
   "source": [
    "# Save model artifacts as zip file\n",
    "model_path = './autogluon-zero-shot-matching-model'\n",
    "zip_filename = 'autogluon_zero_shot_matching_model'\n",
    "\n",
    "if os.path.exists(model_path):\n",
    "    shutil.make_archive(zip_filename, 'zip', model_path)\n",
    "    print(f\"\\nModel artifacts saved to {zip_filename}.zip\")\n",
    "else:\n",
    "    print(\"Model path not found. Using pre-trained models for zero-shot inference.\")"
   ]
  }
 ],
 "metadata": {
  "kernelspec": {
   "display_name": "Python 3",
   "language": "python",
   "name": "python3"
  },
  "language_info": {
   "name": "python",
   "version": "3.8.0"
  }
 },
 "nbformat": 4,
 "nbformat_minor": 4
}

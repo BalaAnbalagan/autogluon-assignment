{
 "cells": [
  {
   "cell_type": "markdown",
   "metadata": {},
   "source": [
    "# AutoGluon: Multimodal Named Entity Recognition (NER)\n",
    "\n",
    "## Objective\n",
    "This notebook demonstrates **multimodal NER** using AutoGluon, combining text and visual/contextual features for improved entity recognition.\n",
    "\n",
    "## Use Case\n",
    "Multimodal NER is useful for:\n",
    "- Document understanding (extracting entities from forms, invoices with layout info)\n",
    "- Social media analysis (entities in posts with images/metadata)\n",
    "- Medical records (combining clinical notes with structured patient data)\n",
    "- Resume parsing (text + document structure + formatting)\n",
    "- News article analysis (text + images + metadata)\n",
    "\n",
    "## Key Features\n",
    "- Combines text tokens with additional contextual features\n",
    "- Can include visual features (fonts, positions, colors)\n",
    "- Incorporates structured metadata\n",
    "- Improves entity recognition accuracy\n",
    "- Handles complex document layouts"
   ]
  },
  {
   "cell_type": "code",
   "execution_count": null,
   "metadata": {},
   "outputs": [],
   "source": [
    "# Install AutoGluon\n",
    "!pip install -q autogluon"
   ]
  },
  {
   "cell_type": "code",
   "execution_count": null,
   "metadata": {},
   "outputs": [],
   "source": [
    "# Import libraries\n",
    "import pandas as pd\n",
    "import numpy as np\n",
    "from autogluon.tabular import TabularDataset, TabularPredictor\n",
    "import os\n",
    "import shutil"
   ]
  },
  {
   "cell_type": "code",
   "execution_count": null,
   "metadata": {},
   "outputs": [],
   "source": [
    "# Load dataset\n",
    "# TODO: Upload your multimodal NER dataset or use URL\n",
    "# Dataset should have:\n",
    "# - 'token' column (text tokens)\n",
    "# - 'label' column (entity tags like B-PER, I-ORG, O)\n",
    "# - Additional feature columns (e.g., position, font_size, is_bold, etc.)\n",
    "# - Optional: 'image' column for document images\n",
    "\n",
    "# Example format:\n",
    "# token | label | x_pos | y_pos | font_size | is_bold | ...\n",
    "# John  | B-PER | 100   | 50    | 12        | 1       | ...\n",
    "\n",
    "# Example: train_data = TabularDataset('path/to/multimodal_ner_data.csv')\n",
    "\n",
    "train_data = None  # Replace with your data\n",
    "test_data = None   # Replace with your data\n",
    "\n",
    "print(\"Dataset loaded successfully!\")\n",
    "if train_data is not None:\n",
    "    print(f\"Training data shape: {train_data.shape}\")\n",
    "    print(\"\\nColumn types:\")\n",
    "    print(train_data.dtypes)\n",
    "    print(\"\\nSample data:\")\n",
    "    print(train_data.head(10))"
   ]
  },
  {
   "cell_type": "code",
   "execution_count": null,
   "metadata": {},
   "outputs": [],
   "source": [
    "# Set label column\n",
    "LABEL = 'label'  # TODO: Replace with your label column name (entity tag)"
   ]
  },
  {
   "cell_type": "code",
   "execution_count": null,
   "metadata": {},
   "outputs": [],
   "source": [
    "# Auto-detect problem type based on label\n",
    "# Multimodal NER is a token classification task\n",
    "if train_data is not None and LABEL in train_data.columns:\n",
    "    # Check if the label is numeric (regression) or categorical (classification)\n",
    "    if pd.api.types.is_numeric_dtype(train_data[LABEL]):\n",
    "        # Check if it's continuous or discrete\n",
    "        unique_ratio = train_data[LABEL].nunique() / len(train_data)\n",
    "        if unique_ratio > 0.05:  # More than 5% unique values suggests regression\n",
    "            problem_type = 'regression'\n",
    "            eval_metric = 'rmse'\n",
    "        else:\n",
    "            problem_type = 'classification'\n",
    "            eval_metric = 'roc_auc'\n",
    "    else:\n",
    "        problem_type = 'classification'\n",
    "        eval_metric = 'roc_auc'\n",
    "else:\n",
    "    # Default to classification for NER\n",
    "    problem_type = 'classification'\n",
    "    eval_metric = 'roc_auc'\n",
    "\n",
    "print(f\"Problem Type: {problem_type}\")\n",
    "print(f\"Evaluation Metric: {eval_metric}\")\n",
    "print(\"\\nNote: Multimodal NER uses text + contextual/visual features.\")\n",
    "if train_data is not None:\n",
    "    print(f\"\\nUnique entity labels: {train_data[LABEL].nunique()}\")\n",
    "    print(train_data[LABEL].value_counts())"
   ]
  },
  {
   "cell_type": "code",
   "execution_count": null,
   "metadata": {},
   "outputs": [],
   "source": [
    "# Train the model\n",
    "# AutoGluon will use all available features (text + contextual)\n",
    "predictor = TabularPredictor(\n",
    "    label=LABEL,\n",
    "    problem_type=problem_type,\n",
    "    eval_metric=eval_metric,\n",
    "    path='./autogluon-multimodal-ner-model'\n",
    ").fit(\n",
    "    train_data=train_data,\n",
    "    presets='medium_quality',\n",
    "    time_limit=900\n",
    ")\n",
    "\n",
    "print(\"Model training completed!\")\n",
    "print(\"The model learned from text and additional contextual features.\")"
   ]
  },
  {
   "cell_type": "code",
   "execution_count": null,
   "metadata": {},
   "outputs": [],
   "source": [
    "# Display and save leaderboard\n",
    "leaderboard = predictor.leaderboard(test_data, silent=True)\n",
    "print(\"\\nModel Leaderboard:\")\n",
    "print(leaderboard)\n",
    "\n",
    "# Save leaderboard to CSV\n",
    "leaderboard.to_csv('leaderboard.csv', index=False)\n",
    "print(\"\\nLeaderboard saved to leaderboard.csv\")"
   ]
  },
  {
   "cell_type": "code",
   "execution_count": null,
   "metadata": {},
   "outputs": [],
   "source": [
    "# Display and save feature importance\n",
    "try:\n",
    "    feature_importance = predictor.feature_importance(test_data)\n",
    "    print(\"\\nFeature Importance:\")\n",
    "    print(feature_importance)\n",
    "    print(\"\\nNote: See which features (text, position, formatting) help most.\")\n",
    "    \n",
    "    # Save feature importance to CSV\n",
    "    feature_importance.to_csv('feature_importance.csv')\n",
    "    print(\"\\nFeature importance saved to feature_importance.csv\")\n",
    "except Exception as e:\n",
    "    print(f\"Could not compute feature importance: {e}\")"
   ]
  },
  {
   "cell_type": "code",
   "execution_count": null,
   "metadata": {},
   "outputs": [],
   "source": [
    "# Make predictions\n",
    "if test_data is not None:\n",
    "    predictions = predictor.predict(test_data)\n",
    "    print(\"\\nPredictions (Entity Tags):\")\n",
    "    print(predictions.head(20))\n",
    "    \n",
    "    # For classification, also show prediction probabilities\n",
    "    if problem_type == 'classification':\n",
    "        pred_probs = predictor.predict_proba(test_data)\n",
    "        print(\"\\nPrediction Probabilities:\")\n",
    "        print(pred_probs.head())\n",
    "        \n",
    "    # Example: Show recognized entities in context\n",
    "    print(\"\\nExample entity recognition with multimodal features:\")\n",
    "    print(\"Token positions, formatting, and context improve accuracy.\")\n",
    "    print(\"\\nExample:\")\n",
    "    print(\"Token='John' at top of page, bold, large font -> Likely B-PER (person name)\")\n",
    "    print(\"Token='CEO' near 'John' -> Supports person entity recognition\")"
   ]
  },
  {
   "cell_type": "code",
   "execution_count": null,
   "metadata": {},
   "outputs": [],
   "source": [
    "# Save model artifacts as zip file\n",
    "model_path = './autogluon-multimodal-ner-model'\n",
    "zip_filename = 'autogluon_multimodal_ner_model'\n",
    "\n",
    "if os.path.exists(model_path):\n",
    "    shutil.make_archive(zip_filename, 'zip', model_path)\n",
    "    print(f\"\\nModel artifacts saved to {zip_filename}.zip\")\n",
    "else:\n",
    "    print(\"Model path not found. Train the model first.\")"
   ]
  }
 ],
 "metadata": {
  "kernelspec": {
   "display_name": "Python 3",
   "language": "python",
   "name": "python3"
  },
  "language_info": {
   "name": "python",
   "version": "3.8.0"
  }
 },
 "nbformat": 4,
 "nbformat_minor": 4
}

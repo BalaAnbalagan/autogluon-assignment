{
 "cells": [
  {
   "cell_type": "markdown",
   "metadata": {},
   "source": [
    "# AutoGluon: Named Entity Recognition (NER)\n",
    "\n",
    "## Objective\n",
    "This notebook demonstrates **Named Entity Recognition (NER)** using AutoGluon. NER is a token classification task that identifies and categorizes named entities (persons, organizations, locations, etc.) in text.\n",
    "\n",
    "## Use Case\n",
    "NER is useful for:\n",
    "- Information extraction from documents\n",
    "- Customer data extraction (names, addresses, phone numbers)\n",
    "- Medical entity recognition (diseases, medications, symptoms)\n",
    "- Legal document analysis (parties, dates, amounts)\n",
    "- Resume parsing (skills, education, experience)\n",
    "\n",
    "## Common Entity Types\n",
    "- PER: Person names\n",
    "- ORG: Organizations\n",
    "- LOC: Locations\n",
    "- DATE: Dates and times\n",
    "- MISC: Miscellaneous entities"
   ]
  },
  {
   "cell_type": "code",
   "execution_count": null,
   "metadata": {},
   "outputs": [],
   "source": "!pip install -q torch torchvision torchaudio\n!pip install -q autogluon"
  },
  {
   "cell_type": "code",
   "execution_count": null,
   "metadata": {},
   "outputs": [],
   "source": [
    "# Import libraries\n",
    "import pandas as pd\n",
    "import numpy as np\n",
    "from autogluon.tabular import TabularDataset, TabularPredictor\n",
    "import os\n",
    "import shutil"
   ]
  },
  {
   "cell_type": "code",
   "execution_count": null,
   "metadata": {},
   "outputs": [],
   "source": [
    "# Load dataset\n",
    "# TODO: Upload your NER dataset or use URL\n",
    "# NER datasets typically have format:\n",
    "# - Token-level annotations: Each row is a token with its label\n",
    "#   Columns: 'token', 'label' (e.g., B-PER, I-PER, O)\n",
    "# - Or sentence-level: 'text' column with list of tokens and 'labels' with list of tags\n",
    "\n",
    "# Example: train_data = TabularDataset('https://your-ner-dataset-url.csv')\n",
    "\n",
    "# Example placeholder - replace with your actual data\n",
    "# train_data = TabularDataset('path/to/your/ner_data.csv')\n",
    "# test_data = TabularDataset('path/to/your/test_data.csv')\n",
    "\n",
    "train_data = None  # Replace with your data\n",
    "test_data = None   # Replace with your data\n",
    "\n",
    "print(\"Dataset loaded successfully!\")\n",
    "if train_data is not None:\n",
    "    print(f\"Training data shape: {train_data.shape}\")\n",
    "    print(\"\\nSample data:\")\n",
    "    print(train_data.head(10))\n",
    "    print(\"\\nUnique entity labels:\")\n",
    "    # Assuming column name is 'label' or 'tag'\n",
    "    if 'label' in train_data.columns:\n",
    "        print(train_data['label'].value_counts())"
   ]
  },
  {
   "cell_type": "code",
   "execution_count": null,
   "metadata": {},
   "outputs": [],
   "source": [
    "# Set label column\n",
    "LABEL = 'label'  # TODO: Replace with your label column name (e.g., 'tag', 'entity')"
   ]
  },
  {
   "cell_type": "code",
   "execution_count": null,
   "metadata": {},
   "outputs": [],
   "source": [
    "# Auto-detect problem type based on label\n",
    "# NER is a token classification task, which is a type of multi-class classification\n",
    "if train_data is not None and LABEL in train_data.columns:\n",
    "    # Check if the label is numeric (regression) or categorical (classification)\n",
    "    if pd.api.types.is_numeric_dtype(train_data[LABEL]):\n",
    "        # Check if it's continuous or discrete\n",
    "        unique_ratio = train_data[LABEL].nunique() / len(train_data)\n",
    "        if unique_ratio > 0.05:  # More than 5% unique values suggests regression\n",
    "            problem_type = 'regression'\n",
    "            eval_metric = 'rmse'\n",
    "        else:\n",
    "            problem_type = 'classification'\n",
    "            eval_metric = 'roc_auc'\n",
    "    else:\n",
    "        problem_type = 'classification'\n",
    "        # For NER, accuracy or F1 score are more common metrics\n",
    "        eval_metric = 'roc_auc'  # Will use appropriate metric for multi-class\n",
    "else:\n",
    "    # Default to classification for NER tasks\n",
    "    problem_type = 'classification'\n",
    "    eval_metric = 'roc_auc'\n",
    "\n",
    "print(f\"Problem Type: {problem_type}\")\n",
    "print(f\"Evaluation Metric: {eval_metric}\")\n",
    "print(\"\\nNote: NER is a token classification task (sequence labeling)\")"
   ]
  },
  {
   "cell_type": "code",
   "execution_count": null,
   "metadata": {},
   "outputs": [],
   "source": [
    "# Train the model\n",
    "# For NER, AutoGluon will use appropriate sequence labeling models\n",
    "predictor = TabularPredictor(\n",
    "    label=LABEL,\n",
    "    problem_type=problem_type,\n",
    "    eval_metric=eval_metric,\n",
    "    path='./autogluon-ner-model'\n",
    ").fit(\n",
    "    train_data=train_data,\n",
    "    presets='medium_quality',\n",
    "    time_limit=900\n",
    ")\n",
    "\n",
    "print(\"Model training completed!\")\n",
    "print(\"The model can now recognize named entities in text.\")"
   ]
  },
  {
   "cell_type": "code",
   "execution_count": null,
   "metadata": {},
   "outputs": [],
   "source": [
    "# Display and save leaderboard\n",
    "leaderboard = predictor.leaderboard(test_data, silent=True)\n",
    "print(\"\\nModel Leaderboard:\")\n",
    "print(leaderboard)\n",
    "\n",
    "# Save leaderboard to CSV\n",
    "leaderboard.to_csv('leaderboard.csv', index=False)\n",
    "print(\"\\nLeaderboard saved to leaderboard.csv\")"
   ]
  },
  {
   "cell_type": "code",
   "execution_count": null,
   "metadata": {},
   "outputs": [],
   "source": [
    "# Display and save feature importance\n",
    "try:\n",
    "    feature_importance = predictor.feature_importance(test_data)\n",
    "    print(\"\\nFeature Importance:\")\n",
    "    print(feature_importance)\n",
    "    \n",
    "    # Save feature importance to CSV\n",
    "    feature_importance.to_csv('feature_importance.csv')\n",
    "    print(\"\\nFeature importance saved to feature_importance.csv\")\n",
    "except Exception as e:\n",
    "    print(f\"Could not compute feature importance: {e}\")"
   ]
  },
  {
   "cell_type": "code",
   "execution_count": null,
   "metadata": {},
   "outputs": [],
   "source": [
    "# Make predictions\n",
    "if test_data is not None:\n",
    "    predictions = predictor.predict(test_data)\n",
    "    print(\"\\nPredictions (Entity Tags):\")\n",
    "    print(predictions.head(20))\n",
    "    \n",
    "    # For classification, also show prediction probabilities\n",
    "    if problem_type == 'classification':\n",
    "        pred_probs = predictor.predict_proba(test_data)\n",
    "        print(\"\\nPrediction Probabilities:\")\n",
    "        print(pred_probs.head())\n",
    "        \n",
    "    # Example: Display recognized entities in context\n",
    "    print(\"\\nExample entity recognition:\")\n",
    "    print(\"(Replace with your own text for testing)\")\n",
    "    # example_text = pd.DataFrame({\n",
    "    #     'token': ['John', 'works', 'at', 'Google', 'in', 'New', 'York']\n",
    "    # })\n",
    "    # predictions = predictor.predict(example_text)\n",
    "    # for token, label in zip(example_text['token'], predictions):\n",
    "    #     print(f\"{token}: {label}\")"
   ]
  },
  {
   "cell_type": "code",
   "execution_count": null,
   "metadata": {},
   "outputs": [],
   "source": [
    "# Save model artifacts as zip file\n",
    "model_path = './autogluon-ner-model'\n",
    "zip_filename = 'autogluon_ner_model'\n",
    "\n",
    "if os.path.exists(model_path):\n",
    "    shutil.make_archive(zip_filename, 'zip', model_path)\n",
    "    print(f\"\\nModel artifacts saved to {zip_filename}.zip\")\n",
    "else:\n",
    "    print(\"Model path not found. Train the model first.\")"
   ]
  }
 ],
 "metadata": {
  "kernelspec": {
   "display_name": "Python 3",
   "language": "python",
   "name": "python3"
  },
  "language_info": {
   "name": "python",
   "version": "3.8.0"
  }
 },
 "nbformat": 4,
 "nbformat_minor": 4
}
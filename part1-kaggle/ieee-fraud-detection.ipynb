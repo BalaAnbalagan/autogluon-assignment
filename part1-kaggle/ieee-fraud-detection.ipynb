{
  "cells": [
    {
      "cell_type": "markdown",
      "metadata": {
        "id": "view-in-github",
        "colab_type": "text"
      },
      "source": [
        "<a href=\"https://colab.research.google.com/github/BalaAnbalagan/autogluon-assignment/blob/master/part1-kaggle/ieee-fraud-detection.ipynb\" target=\"_parent\"><img src=\"https://colab.research.google.com/assets/colab-badge.svg\" alt=\"Open In Colab\"/></a>"
      ]
    },
    {
      "cell_type": "markdown",
      "metadata": {
        "id": "Uk14aTp858tE"
      },
      "source": [
        "# IEEE-CIS Fraud Detection (Binary Classification)\n",
        "\n",
        "## 🎯 Objective\n",
        "Build an AutoML binary classifier to detect fraudulent transactions using AutoGluon.\n",
        "\n",
        "**Task**: Binary Classification  \n",
        "**Dataset**: IEEE-CIS Fraud Detection (Kaggle)  \n",
        "**Target**: `isFraud`  \n",
        "**Metric**: ROC-AUC  \n",
        "\n",
        "## 📋 What This Notebook Does\n",
        "1. Install AutoGluon and dependencies\n",
        "2. Load transaction and identity data from Kaggle\n",
        "3. Merge datasets and prepare features\n",
        "4. Train AutoGluon predictor with automatic model selection\n",
        "5. Show leaderboard and feature importance\n",
        "6. Generate predictions and save artifacts"
      ]
    },
    {
      "cell_type": "code",
      "source": [
        "from google.colab import drive\n",
        "drive.mount('/content/drive')"
      ],
      "metadata": {
        "id": "Fdg337uQ6HDi",
        "outputId": "78381aed-ee85-4111-d1cf-fe2b488d6ced",
        "colab": {
          "base_uri": "https://localhost:8080/"
        }
      },
      "execution_count": 1,
      "outputs": [
        {
          "output_type": "stream",
          "name": "stdout",
          "text": [
            "Mounted at /content/drive\n"
          ]
        }
      ]
    },
    {
      "cell_type": "markdown",
      "metadata": {
        "id": "rvpDejAo58tF"
      },
      "source": [
        "## 📦 Install Dependencies"
      ]
    },
    {
      "cell_type": "code",
      "execution_count": null,
      "metadata": {
        "id": "cUyXN0LC58tF"
      },
      "outputs": [],
      "source": [
        "!pip install -q torch torchvision torchaudio\n",
        "!pip install -q autogluon kaggle"
      ]
    },
    {
      "cell_type": "markdown",
      "metadata": {
        "id": "CxLh_ACn58tG"
      },
      "source": [
        "## 📚 Import Libraries"
      ]
    },
    {
      "cell_type": "code",
      "execution_count": null,
      "metadata": {
        "id": "2B-yymF258tG"
      },
      "outputs": [],
      "source": [
        "import os\n",
        "import time\n",
        "import zipfile\n",
        "import shutil\n",
        "import pandas as pd\n",
        "import numpy as np\n",
        "from autogluon.tabular import TabularPredictor\n",
        "\n",
        "# Set random seed for reproducibility\n",
        "np.random.seed(42)"
      ]
    },
    {
      "cell_type": "markdown",
      "metadata": {
        "id": "S4gNkvDp58tG"
      },
      "source": [
        "## 📥 Load Dataset\n",
        "\n",
        "### Option A: Kaggle API (Recommended)\n",
        "1. Go to https://www.kaggle.com/settings/account\n",
        "2. Click \"Create New API Token\" to download `kaggle.json`\n",
        "3. Upload it when prompted below\n",
        "\n",
        "### Option B: Manual Upload\n",
        "1. Download these 4 CSVs from [Kaggle Competition](https://www.kaggle.com/c/ieee-fraud-detection/data)\n",
        "   - train_transaction.csv\n",
        "   - train_identity.csv\n",
        "   - test_transaction.csv\n",
        "   - test_identity.csv\n",
        "2. Upload them when prompted below"
      ]
    },
    {
      "cell_type": "code",
      "execution_count": null,
      "metadata": {
        "id": "l6HNxOxq58tG"
      },
      "outputs": [],
      "source": [
        "# Choose data loading method\n",
        "USE_KAGGLE_API = False  # Set to True to use Kaggle API, False for manual upload\n",
        "COMPETITION = \"ieee-fraud-detection\"\n",
        "\n",
        "if USE_KAGGLE_API:\n",
        "    # Upload kaggle.json\n",
        "    from google.colab import files\n",
        "    print(\"📤 Upload your kaggle.json file:\")\n",
        "    uploaded = files.upload()\n",
        "\n",
        "    # Set up Kaggle credentials\n",
        "    os.makedirs('/root/.kaggle', exist_ok=True)\n",
        "    !mv kaggle.json /root/.kaggle/kaggle.json\n",
        "    !chmod 600 /root/.kaggle/kaggle.json\n",
        "\n",
        "    # Download competition data\n",
        "    os.makedirs('data', exist_ok=True)\n",
        "    print(f\"\\n📥 Downloading {COMPETITION} dataset...\")\n",
        "    !kaggle competitions download -c $COMPETITION -p data\n",
        "\n",
        "    # Unzip all archives\n",
        "    print(\"\\n📂 Extracting files...\")\n",
        "    for filename in os.listdir('data'):\n",
        "        if filename.endswith('.zip'):\n",
        "            with zipfile.ZipFile(os.path.join('data', filename), 'r') as zip_ref:\n",
        "                zip_ref.extractall('data')\n",
        "    print(\"✅ Data downloaded and extracted!\")\n",
        "\n",
        "else:\n",
        "    # Manual upload\n",
        "    from google.colab import files\n",
        "    print(\"📤 Upload these 4 files:\")\n",
        "    print(\"   1. train_transaction.csv\")\n",
        "    print(\"   2. train_identity.csv\")\n",
        "    print(\"   3. test_transaction.csv\")\n",
        "    print(\"   4. test_identity.csv\")\n",
        "    uploaded = files.upload()\n",
        "\n",
        "    # Move files to data directory\n",
        "    os.makedirs('data', exist_ok=True)\n",
        "    for filename in uploaded.keys():\n",
        "        shutil.move(filename, os.path.join('data', filename))\n",
        "    print(\"✅ Files uploaded successfully!\")"
      ]
    },
    {
      "cell_type": "markdown",
      "metadata": {
        "id": "OqAo_0Aq58tG"
      },
      "source": [
        "## 🔧 Load and Merge Data\n",
        "\n",
        "The dataset has two parts:\n",
        "- **Transaction data**: Payment details, amounts, cards\n",
        "- **Identity data**: Device and network information\n",
        "\n",
        "We'll merge them on `TransactionID`."
      ]
    },
    {
      "cell_type": "code",
      "execution_count": null,
      "metadata": {
        "id": "18NGTQHH58tG"
      },
      "outputs": [],
      "source": [
        "# Load transaction data\n",
        "print(\"📖 Loading transaction data...\")\n",
        "train_transaction = pd.read_csv('data/train_transaction.csv')\n",
        "train_identity = pd.read_csv('data/train_identity.csv')\n",
        "test_transaction = pd.read_csv('data/test_transaction.csv')\n",
        "test_identity = pd.read_csv('data/test_identity.csv')\n",
        "\n",
        "# Merge transaction and identity data\n",
        "print(\"🔗 Merging datasets...\")\n",
        "train = train_transaction.merge(train_identity, on='TransactionID', how='left')\n",
        "test = test_transaction.merge(test_identity, on='TransactionID', how='left')\n",
        "\n",
        "print(f\"\\n✅ Data loaded successfully!\")\n",
        "print(f\"   Train shape: {train.shape}\")\n",
        "print(f\"   Test shape: {test.shape}\")\n",
        "print(f\"\\n📊 Target distribution:\")\n",
        "print(train['isFraud'].value_counts(normalize=True))"
      ]
    },
    {
      "cell_type": "markdown",
      "metadata": {
        "id": "hXJp2niy58tH"
      },
      "source": [
        "## 🎯 Set Target Label and Problem Type\n",
        "\n",
        "AutoGluon will automatically detect this is a binary classification problem."
      ]
    },
    {
      "cell_type": "code",
      "execution_count": null,
      "metadata": {
        "id": "WYxTWJB-58tH"
      },
      "outputs": [],
      "source": [
        "# Define target label\n",
        "LABEL = \"isFraud\"\n",
        "\n",
        "# AutoGluon will auto-detect problem type (binary classification)\n",
        "# and use ROC-AUC as the metric\n",
        "print(f\"🎯 Target Label: {LABEL}\")\n",
        "print(f\"📈 Metric: ROC-AUC (auto-detected for binary classification)\")"
      ]
    },
    {
      "cell_type": "markdown",
      "metadata": {
        "id": "K7JzOSpf58tH"
      },
      "source": [
        "## 🚀 Train AutoGluon Model\n",
        "\n",
        "AutoGluon will:\n",
        "- Automatically handle missing values\n",
        "- Engineer features\n",
        "- Train multiple models (LightGBM, CatBoost, Neural Networks, etc.)\n",
        "- Create an ensemble of the best models"
      ]
    },
    {
      "cell_type": "code",
      "execution_count": null,
      "metadata": {
        "id": "jnsQQAHp58tH"
      },
      "outputs": [],
      "source": [
        "# Create save directory with timestamp\n",
        "save_dir = f\"ag-{int(time.time())}-ieee-fraud\"\n",
        "\n",
        "# Initialize predictor\n",
        "predictor = TabularPredictor(\n",
        "    label=LABEL,\n",
        "    problem_type=\"binary\",  # Explicitly set for clarity\n",
        "    eval_metric=\"roc_auc\",  # ROC-AUC for binary classification\n",
        "    path=save_dir\n",
        ")\n",
        "\n",
        "# Train the model\n",
        "print(\"🏋️ Training AutoGluon models...\")\n",
        "print(\"This may take 15-20 minutes...\\n\")\n",
        "\n",
        "predictor = predictor.fit(\n",
        "    train,\n",
        "    presets=\"medium_quality\",  # Balance between speed and accuracy\n",
        "    time_limit=900,            # 15 minutes (adjust as needed)\n",
        "    verbosity=2                # Show detailed progress\n",
        ")\n",
        "\n",
        "print(\"\\n✅ Training complete!\")"
      ]
    },
    {
      "cell_type": "markdown",
      "metadata": {
        "id": "88H8wxr658tH"
      },
      "source": [
        "## 📊 Model Leaderboard\n",
        "\n",
        "Shows all models trained and their performance:"
      ]
    },
    {
      "cell_type": "code",
      "execution_count": null,
      "metadata": {
        "id": "0JyrwICx58tH"
      },
      "outputs": [],
      "source": [
        "# Get leaderboard\n",
        "leaderboard = predictor.leaderboard(train, silent=True)\n",
        "\n",
        "print(\"🏆 Top 10 Models:\")\n",
        "display(leaderboard.head(10))\n",
        "\n",
        "# Save leaderboard\n",
        "leaderboard.to_csv('leaderboard.csv', index=False)\n",
        "print(\"\\n💾 Saved: leaderboard.csv\")"
      ]
    },
    {
      "cell_type": "markdown",
      "metadata": {
        "id": "fD-CmLcg58tH"
      },
      "source": [
        "## 🔍 Feature Importance\n",
        "\n",
        "Shows which features are most predictive:"
      ]
    },
    {
      "cell_type": "code",
      "execution_count": null,
      "metadata": {
        "id": "-pffgTXY58tH"
      },
      "outputs": [],
      "source": [
        "# Get feature importance\n",
        "feature_importance = predictor.feature_importance(train)\n",
        "\n",
        "print(\"🔍 Top 20 Most Important Features:\")\n",
        "display(feature_importance.head(20))\n",
        "\n",
        "# Save feature importance\n",
        "feature_importance.to_csv('feature_importance.csv')\n",
        "print(\"\\n💾 Saved: feature_importance.csv\")"
      ]
    },
    {
      "cell_type": "markdown",
      "metadata": {
        "id": "dbQ78fp658tH"
      },
      "source": [
        "## 🔮 Generate Predictions\n",
        "\n",
        "Create submission file for Kaggle:"
      ]
    },
    {
      "cell_type": "code",
      "execution_count": null,
      "metadata": {
        "id": "A9eO8lUF58tH"
      },
      "outputs": [],
      "source": [
        "# Predict probabilities for the positive class (fraud)\n",
        "print(\"🔮 Generating predictions...\")\n",
        "predictions = predictor.predict_proba(test)\n",
        "\n",
        "# For binary classification, get probability of class 1 (fraud)\n",
        "if isinstance(predictions, pd.DataFrame):\n",
        "    fraud_proba = predictions[1]  # Probability of fraud\n",
        "else:\n",
        "    fraud_proba = predictions\n",
        "\n",
        "# Create submission file\n",
        "submission = pd.DataFrame({\n",
        "    'TransactionID': test['TransactionID'],\n",
        "    'isFraud': fraud_proba\n",
        "})\n",
        "\n",
        "submission.to_csv('submission.csv', index=False)\n",
        "print(\"✅ Predictions generated!\")\n",
        "print(\"\\n📊 Sample predictions:\")\n",
        "display(submission.head(10))\n",
        "print(\"\\n💾 Saved: submission.csv\")"
      ]
    },
    {
      "cell_type": "markdown",
      "metadata": {
        "id": "UU8glqNC58tH"
      },
      "source": [
        "## 💾 Save Model Artifacts\n",
        "\n",
        "Package everything for download:"
      ]
    },
    {
      "cell_type": "code",
      "execution_count": null,
      "metadata": {
        "id": "uF20hdZy58tH"
      },
      "outputs": [],
      "source": [
        "# Create model archive\n",
        "print(\"📦 Creating model archive...\")\n",
        "shutil.make_archive('autogluon_model', 'zip', save_dir)\n",
        "\n",
        "print(\"\\n✅ All artifacts saved!\")\n",
        "print(\"\\n📥 Download these files:\")\n",
        "print(\"   ✓ autogluon_model.zip    - Trained model\")\n",
        "print(\"   ✓ leaderboard.csv         - Model comparison\")\n",
        "print(\"   ✓ feature_importance.csv  - Important features\")\n",
        "print(\"   ✓ submission.csv          - Kaggle submission\")\n",
        "print(\"\\n💡 Use the Files panel (📁) to download\")"
      ]
    },
    {
      "cell_type": "markdown",
      "metadata": {
        "id": "N_KNEYED58tI"
      },
      "source": [
        "## 🎓 Summary\n",
        "\n",
        "This notebook demonstrated:\n",
        "1. ✅ Loading Kaggle competition data\n",
        "2. ✅ Merging transaction and identity datasets\n",
        "3. ✅ Training AutoGluon with automatic model selection\n",
        "4. ✅ Evaluating model performance via leaderboard\n",
        "5. ✅ Analyzing feature importance\n",
        "6. ✅ Generating Kaggle submission file\n",
        "\n",
        "**Next Steps:**\n",
        "- Submit `submission.csv` to Kaggle competition\n",
        "- Try different presets (`best_quality`, `high_quality`)\n",
        "- Increase `time_limit` for better results\n",
        "- Experiment with feature engineering"
      ]
    }
  ],
  "metadata": {
    "kernelspec": {
      "display_name": "Python 3",
      "language": "python",
      "name": "python3"
    },
    "language_info": {
      "name": "python",
      "version": "3.10.0"
    },
    "colab": {
      "provenance": [],
      "toc_visible": true,
      "include_colab_link": true
    }
  },
  "nbformat": 4,
  "nbformat_minor": 0
}
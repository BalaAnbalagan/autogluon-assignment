{
 "cells": [
  {
   "cell_type": "markdown",
   "metadata": {},
   "source": [
    "# California Housing Price Prediction (Regression)\n",
    "\n",
    "## 🎯 Objective\n",
    "Build an AutoML regression model to predict median house values using AutoGluon.\n",
    "\n",
    "**Task**: Regression  \n",
    "**Dataset**: California Housing (sklearn built-in)  \n",
    "**Target**: `median_house_value`  \n",
    "**Metric**: RMSE (Root Mean Squared Error)  \n",
    "\n",
    "## 📋 What This Notebook Does\n",
    "1. Install AutoGluon and dependencies\n",
    "2. Load California Housing dataset from sklearn\n",
    "3. Prepare features and target variable\n",
    "4. Train AutoGluon predictor for regression\n",
    "5. Show leaderboard and feature importance\n",
    "6. Generate predictions and save artifacts"
   ]
  },
  {
   "cell_type": "markdown",
   "metadata": {},
   "source": [
    "## 📦 Install Dependencies"
   ]
  },
  {
   "cell_type": "code",
   "execution_count": null,
   "metadata": {},
   "outputs": [],
   "source": [
    "!pip install -q autogluon scikit-learn"
   ]
  },
  {
   "cell_type": "markdown",
   "metadata": {},
   "source": [
    "## 📚 Import Libraries"
   ]
  },
  {
   "cell_type": "code",
   "execution_count": null,
   "metadata": {},
   "outputs": [],
   "source": [
    "import time\n",
    "import shutil\n",
    "import pandas as pd\n",
    "import numpy as np\n",
    "from sklearn.datasets import fetch_california_housing\n",
    "from sklearn.model_selection import train_test_split\n",
    "from autogluon.tabular import TabularPredictor\n",
    "\n",
    "# Set random seed for reproducibility\n",
    "np.random.seed(42)"
   ]
  },
  {
   "cell_type": "markdown",
   "metadata": {},
   "source": [
    "## 📥 Load Dataset\n",
    "\n",
    "The California Housing dataset contains:\n",
    "- **20,640 samples** from California districts\n",
    "- **8 features**: Location, housing attributes, demographics\n",
    "- **Target**: Median house value (in $100,000s)"
   ]
  },
  {
   "cell_type": "code",
   "execution_count": null,
   "metadata": {},
   "outputs": [],
   "source": [
    "# Load California Housing dataset\n",
    "print(\"📥 Loading California Housing dataset...\")\n",
    "housing = fetch_california_housing(as_frame=True)\n",
    "\n",
    "# Create dataframe with features and target\n",
    "data = housing.frame\n",
    "\n",
    "# Rename target to be more descriptive\n",
    "data = data.rename(columns={'MedHouseVal': 'median_house_value'})\n",
    "\n",
    "print(f\"\\n✅ Data loaded successfully!\")\n",
    "print(f\"   Shape: {data.shape}\")\n",
    "print(f\"\\n📊 Dataset Info:\")\n",
    "print(data.info())\n",
    "print(f\"\\n📈 Target Statistics:\")\n",
    "print(data['median_house_value'].describe())"
   ]
  },
  {
   "cell_type": "markdown",
   "metadata": {},
   "source": [
    "## 🔀 Train-Test Split\n",
    "\n",
    "Split data into training and test sets:"
   ]
  },
  {
   "cell_type": "code",
   "execution_count": null,
   "metadata": {},
   "outputs": [],
   "source": [
    "# Split data (80% train, 20% test)\n",
    "train, test = train_test_split(data, test_size=0.2, random_state=42)\n",
    "\n",
    "print(f\"📊 Data split:\")\n",
    "print(f\"   Train: {train.shape[0]} samples\")\n",
    "print(f\"   Test:  {test.shape[0]} samples\")"
   ]
  },
  {
   "cell_type": "markdown",
   "metadata": {},
   "source": [
    "## 🎯 Set Target Label and Problem Type\n",
    "\n",
    "AutoGluon will automatically detect this is a regression problem because the target is numeric."
   ]
  },
  {
   "cell_type": "code",
   "execution_count": null,
   "metadata": {},
   "outputs": [],
   "source": [
    "# Define target label\n",
    "LABEL = \"median_house_value\"\n",
    "\n",
    "# AutoGluon will auto-detect problem type (regression)\n",
    "# and use RMSE as the default metric\n",
    "print(f\"🎯 Target Label: {LABEL}\")\n",
    "print(f\"📈 Metric: RMSE (auto-detected for regression)\")\n",
    "print(f\"\\n📊 Feature columns:\")\n",
    "feature_cols = [col for col in train.columns if col != LABEL]\n",
    "print(feature_cols)"
   ]
  },
  {
   "cell_type": "markdown",
   "metadata": {},
   "source": [
    "## 🚀 Train AutoGluon Model\n",
    "\n",
    "AutoGluon will:\n",
    "- Automatically detect this is a regression task\n",
    "- Train multiple models (LightGBM, CatBoost, Neural Networks, etc.)\n",
    "- Create an ensemble of the best models\n",
    "- Optimize for RMSE"
   ]
  },
  {
   "cell_type": "code",
   "execution_count": null,
   "metadata": {},
   "outputs": [],
   "source": [
    "# Create save directory with timestamp\n",
    "save_dir = f\"ag-{int(time.time())}-california-housing\"\n",
    "\n",
    "# Initialize predictor\n",
    "predictor = TabularPredictor(\n",
    "    label=LABEL,\n",
    "    problem_type=\"regression\",  # Explicitly set for clarity\n",
    "    eval_metric=\"root_mean_squared_error\",  # RMSE for regression\n",
    "    path=save_dir\n",
    ")\n",
    "\n",
    "# Train the model\n",
    "print(\"🏋️ Training AutoGluon models...\")\n",
    "print(\"This may take 10-15 minutes...\\n\")\n",
    "\n",
    "predictor = predictor.fit(\n",
    "    train,\n",
    "    presets=\"medium_quality\",  # Balance between speed and accuracy\n",
    "    time_limit=900,            # 15 minutes (adjust as needed)\n",
    "    verbosity=2                # Show detailed progress\n",
    ")\n",
    "\n",
    "print(\"\\n✅ Training complete!\")"
   ]
  },
  {
   "cell_type": "markdown",
   "metadata": {},
   "source": [
    "## 📊 Model Leaderboard\n",
    "\n",
    "Shows all models trained and their performance (lower RMSE = better):"
   ]
  },
  {
   "cell_type": "code",
   "execution_count": null,
   "metadata": {},
   "outputs": [],
   "source": [
    "# Get leaderboard\n",
    "leaderboard = predictor.leaderboard(train, silent=True)\n",
    "\n",
    "print(\"🏆 Top 10 Models (sorted by RMSE):\")\n",
    "display(leaderboard.head(10))\n",
    "\n",
    "# Save leaderboard\n",
    "leaderboard.to_csv('leaderboard.csv', index=False)\n",
    "print(\"\\n💾 Saved: leaderboard.csv\")"
   ]
  },
  {
   "cell_type": "markdown",
   "metadata": {},
   "source": [
    "## 🔍 Feature Importance\n",
    "\n",
    "Shows which features are most predictive of house prices:"
   ]
  },
  {
   "cell_type": "code",
   "execution_count": null,
   "metadata": {},
   "outputs": [],
   "source": [
    "# Get feature importance\n",
    "feature_importance = predictor.feature_importance(train)\n",
    "\n",
    "print(\"🔍 Feature Importance (all features):\")\n",
    "display(feature_importance)\n",
    "\n",
    "# Save feature importance\n",
    "feature_importance.to_csv('feature_importance.csv')\n",
    "print(\"\\n💾 Saved: feature_importance.csv\")"
   ]
  },
  {
   "cell_type": "markdown",
   "metadata": {},
   "source": [
    "## 📈 Model Performance on Test Set\n",
    "\n",
    "Evaluate the model on held-out test data:"
   ]
  },
  {
   "cell_type": "code",
   "execution_count": null,
   "metadata": {},
   "outputs": [],
   "source": [
    "# Evaluate on test set\n",
    "print(\"📊 Evaluating on test set...\")\n",
    "test_performance = predictor.evaluate(test)\n",
    "\n",
    "print(\"\\n📈 Test Set Performance:\")\n",
    "for metric, value in test_performance.items():\n",
    "    print(f\"   {metric}: {value:.4f}\")"
   ]
  },
  {
   "cell_type": "markdown",
   "metadata": {},
   "source": [
    "## 🔮 Generate Predictions\n",
    "\n",
    "Make predictions on the test set:"
   ]
  },
  {
   "cell_type": "code",
   "execution_count": null,
   "metadata": {},
   "outputs": [],
   "source": [
    "# Generate predictions\n",
    "print(\"🔮 Generating predictions...\")\n",
    "predictions = predictor.predict(test)\n",
    "\n",
    "# Create comparison dataframe\n",
    "comparison = pd.DataFrame({\n",
    "    'actual': test[LABEL].values,\n",
    "    'predicted': predictions.values,\n",
    "    'error': test[LABEL].values - predictions.values,\n",
    "    'abs_error': abs(test[LABEL].values - predictions.values)\n",
    "})\n",
    "\n",
    "# Add feature columns for context\n",
    "for col in feature_cols:\n",
    "    comparison[col] = test[col].values\n",
    "\n",
    "comparison.to_csv('predictions.csv', index=False)\n",
    "print(\"✅ Predictions generated!\")\n",
    "print(\"\\n📊 Sample predictions (first 10):\")\n",
    "display(comparison[['actual', 'predicted', 'error', 'abs_error']].head(10))\n",
    "print(\"\\n💾 Saved: predictions.csv\")"
   ]
  },
  {
   "cell_type": "markdown",
   "metadata": {},
   "source": [
    "## 💾 Save Model Artifacts\n",
    "\n",
    "Package everything for download:"
   ]
  },
  {
   "cell_type": "code",
   "execution_count": null,
   "metadata": {},
   "outputs": [],
   "source": [
    "# Create model archive\n",
    "print(\"📦 Creating model archive...\")\n",
    "shutil.make_archive('autogluon_model', 'zip', save_dir)\n",
    "\n",
    "print(\"\\n✅ All artifacts saved!\")\n",
    "print(\"\\n📥 Download these files:\")\n",
    "print(\"   ✓ autogluon_model.zip     - Trained model\")\n",
    "print(\"   ✓ leaderboard.csv         - Model comparison\")\n",
    "print(\"   ✓ feature_importance.csv  - Important features\")\n",
    "print(\"   ✓ predictions.csv         - Test predictions with actuals\")\n",
    "print(\"\\n💡 Use the Files panel (📁) to download\")"
   ]
  },
  {
   "cell_type": "markdown",
   "metadata": {},
   "source": [
    "## 🎓 Summary\n",
    "\n",
    "This notebook demonstrated:\n",
    "1. ✅ Loading California Housing dataset from sklearn\n",
    "2. ✅ Training AutoGluon for regression task\n",
    "3. ✅ Evaluating model performance (RMSE)\n",
    "4. ✅ Analyzing feature importance\n",
    "5. ✅ Generating predictions on test set\n",
    "\n",
    "**Key Insights:**\n",
    "- Most important features are typically: MedInc (median income), location (Latitude/Longitude)\n",
    "- AutoGluon automatically handles the regression task\n",
    "- Ensemble models typically perform best\n",
    "\n",
    "**Next Steps:**\n",
    "- Try different presets (`best_quality`, `high_quality`)\n",
    "- Increase `time_limit` for better results\n",
    "- Experiment with feature engineering (e.g., adding distance from coast)"
   ]
  }
 ],
 "metadata": {
  "kernelspec": {
   "display_name": "Python 3",
   "language": "python",
   "name": "python3"
  },
  "language_info": {
   "name": "python",
   "version": "3.10.0"
  }
 },
 "nbformat": 4,
 "nbformat_minor": 4
}
